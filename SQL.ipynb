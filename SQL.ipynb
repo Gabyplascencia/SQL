{
 "cells": [
  {
   "cell_type": "markdown",
   "metadata": {},
   "source": [
    "# Análisis exploratorio de datos \n",
    "Parte 4 (Python)"
   ]
  },
  {
   "cell_type": "markdown",
   "metadata": {},
   "source": [
    "En esta segunda parte del proyecto, se nos han sido porporcionadas datas csv sobre el clima y las compañias de taxis con las que hemos trabajado anteriormente en formato SQL.\n",
    "\n",
    "\n",
    "Continuaremos con nuestro analisis de forma conveniconal con la ayuda de python, para explicar el impacto climatico en el uso de viajes y el tiempo de recorridos dependiendo el clima.\n",
    "Se limpiaran los data, se buscará tener los datas listos para su analisis y se crearán gráficas que nos ayuden a entender mejor el comportamiento de las plataformas, si existe alguna relación que afecte o beneficie con el clima y se evaluará la hipótesis sobre si afecta o no el clima en los viajes."
   ]
  },
  {
   "cell_type": "markdown",
   "metadata": {},
   "source": [
    "# Descripción de los data "
   ]
  },
  {
   "cell_type": "markdown",
   "metadata": {},
   "source": [
    "/datasets/project_sql_result_01.csv. \n",
    "\n",
    "Contiene los siguientes datos:\n",
    "\n",
    "-company_name: nombre de la empresa de taxis\n",
    "\n",
    "-trips_amount: el número de viajes de cada compañía de taxis el 15 y 16 de noviembre de 2017. \n",
    "\n",
    "\n",
    "\n",
    "\n",
    "\n",
    "/datasets/project_sql_result_04.csv. \n",
    "\n",
    "\n",
    "Contiene los siguientes datos:\n",
    "\n",
    "-dropoff_location_name: barrios de Chicago donde finalizaron los viajes\n",
    "\n",
    "-average_trips: el promedio de viajes que terminaron en cada barrio en noviembre de 2017.\n",
    "\n",
    "\n",
    "\n",
    "\n",
    "\n",
    "\n",
    "/datasets/project_sql_result_07.csv — \n",
    "\n",
    "Contiene datos sobre viajes desde el Loop hasta el Aeropuerto Internacional O'Hare. \n",
    "Contiene los siguientes datos:\n",
    "\n",
    "-start_ts: fecha y hora de la recogida\n",
    "\n",
    "-weather_conditions: condiciones climáticas en el momento en el que comenzó el viaje\n",
    "\n",
    "-duration_seconds: duración del viaje en segundos"
   ]
  },
  {
   "cell_type": "code",
   "execution_count": 1,
   "metadata": {},
   "outputs": [],
   "source": [
    "#importan las librerias necesarias \n",
    "import pandas as pd\n",
    "import numpy as np\n",
    "from matplotlib import pyplot as plt\n",
    "from scipy import stats as st\n",
    "from datetime import date"
   ]
  },
  {
   "cell_type": "code",
   "execution_count": 2,
   "metadata": {},
   "outputs": [],
   "source": [
    "#se cargan los archivos\n",
    "\n",
    "data_compañias = pd.read_csv(\"/datasets/project_sql_result_01.csv\")\n",
    "data_barrios = pd.read_csv(\"/datasets/project_sql_result_04.csv\")\n",
    "data_loop_aeropuerto = pd.read_csv(\"/datasets/project_sql_result_07.csv\")\n"
   ]
  },
  {
   "cell_type": "code",
   "execution_count": 3,
   "metadata": {},
   "outputs": [
    {
     "name": "stdout",
     "output_type": "stream",
     "text": [
      "<class 'pandas.core.frame.DataFrame'>\n",
      "RangeIndex: 64 entries, 0 to 63\n",
      "Data columns (total 2 columns):\n",
      " #   Column        Non-Null Count  Dtype \n",
      "---  ------        --------------  ----- \n",
      " 0   company_name  64 non-null     object\n",
      " 1   trips_amount  64 non-null     int64 \n",
      "dtypes: int64(1), object(1)\n",
      "memory usage: 1.1+ KB\n"
     ]
    }
   ],
   "source": [
    "#se analiza el data compañias\n",
    "data_compañias.info()"
   ]
  },
  {
   "cell_type": "code",
   "execution_count": 4,
   "metadata": {},
   "outputs": [
    {
     "data": {
      "text/html": [
       "<div>\n",
       "<style scoped>\n",
       "    .dataframe tbody tr th:only-of-type {\n",
       "        vertical-align: middle;\n",
       "    }\n",
       "\n",
       "    .dataframe tbody tr th {\n",
       "        vertical-align: top;\n",
       "    }\n",
       "\n",
       "    .dataframe thead th {\n",
       "        text-align: right;\n",
       "    }\n",
       "</style>\n",
       "<table border=\"1\" class=\"dataframe\">\n",
       "  <thead>\n",
       "    <tr style=\"text-align: right;\">\n",
       "      <th></th>\n",
       "      <th>company_name</th>\n",
       "      <th>trips_amount</th>\n",
       "    </tr>\n",
       "  </thead>\n",
       "  <tbody>\n",
       "    <tr>\n",
       "      <th>0</th>\n",
       "      <td>Flash Cab</td>\n",
       "      <td>19558</td>\n",
       "    </tr>\n",
       "    <tr>\n",
       "      <th>1</th>\n",
       "      <td>Taxi Affiliation Services</td>\n",
       "      <td>11422</td>\n",
       "    </tr>\n",
       "    <tr>\n",
       "      <th>2</th>\n",
       "      <td>Medallion Leasing</td>\n",
       "      <td>10367</td>\n",
       "    </tr>\n",
       "    <tr>\n",
       "      <th>3</th>\n",
       "      <td>Yellow Cab</td>\n",
       "      <td>9888</td>\n",
       "    </tr>\n",
       "    <tr>\n",
       "      <th>4</th>\n",
       "      <td>Taxi Affiliation Service Yellow</td>\n",
       "      <td>9299</td>\n",
       "    </tr>\n",
       "  </tbody>\n",
       "</table>\n",
       "</div>"
      ],
      "text/plain": [
       "                      company_name  trips_amount\n",
       "0                        Flash Cab         19558\n",
       "1        Taxi Affiliation Services         11422\n",
       "2                Medallion Leasing         10367\n",
       "3                       Yellow Cab          9888\n",
       "4  Taxi Affiliation Service Yellow          9299"
      ]
     },
     "execution_count": 4,
     "metadata": {},
     "output_type": "execute_result"
    }
   ],
   "source": [
    "#se visualizan las primeras filas\n",
    "data_compañias.head()"
   ]
  },
  {
   "cell_type": "code",
   "execution_count": 5,
   "metadata": {},
   "outputs": [
    {
     "name": "stdout",
     "output_type": "stream",
     "text": [
      "0\n"
     ]
    }
   ],
   "source": [
    "#verificar si existen datos duplicados\n",
    "print(data_compañias.duplicated().sum())"
   ]
  },
  {
   "cell_type": "markdown",
   "metadata": {},
   "source": [
    "Para este data se ha corroborado que esta en buenas condiciones para ser trabajado.\n",
    "No cuenta con valores ausentes, estan los datos completos, no existen filas duplicadas y el tipo de datos es correcto para ambas columnas."
   ]
  },
  {
   "cell_type": "code",
   "execution_count": 6,
   "metadata": {},
   "outputs": [
    {
     "name": "stdout",
     "output_type": "stream",
     "text": [
      "<class 'pandas.core.frame.DataFrame'>\n",
      "RangeIndex: 94 entries, 0 to 93\n",
      "Data columns (total 2 columns):\n",
      " #   Column                 Non-Null Count  Dtype  \n",
      "---  ------                 --------------  -----  \n",
      " 0   dropoff_location_name  94 non-null     object \n",
      " 1   average_trips          94 non-null     float64\n",
      "dtypes: float64(1), object(1)\n",
      "memory usage: 1.6+ KB\n"
     ]
    }
   ],
   "source": [
    "#se analiza el data_barrios\n",
    "data_barrios.info()"
   ]
  },
  {
   "cell_type": "code",
   "execution_count": 7,
   "metadata": {},
   "outputs": [
    {
     "data": {
      "text/html": [
       "<div>\n",
       "<style scoped>\n",
       "    .dataframe tbody tr th:only-of-type {\n",
       "        vertical-align: middle;\n",
       "    }\n",
       "\n",
       "    .dataframe tbody tr th {\n",
       "        vertical-align: top;\n",
       "    }\n",
       "\n",
       "    .dataframe thead th {\n",
       "        text-align: right;\n",
       "    }\n",
       "</style>\n",
       "<table border=\"1\" class=\"dataframe\">\n",
       "  <thead>\n",
       "    <tr style=\"text-align: right;\">\n",
       "      <th></th>\n",
       "      <th>dropoff_location_name</th>\n",
       "      <th>average_trips</th>\n",
       "    </tr>\n",
       "  </thead>\n",
       "  <tbody>\n",
       "    <tr>\n",
       "      <th>0</th>\n",
       "      <td>Loop</td>\n",
       "      <td>10727.466667</td>\n",
       "    </tr>\n",
       "    <tr>\n",
       "      <th>1</th>\n",
       "      <td>River North</td>\n",
       "      <td>9523.666667</td>\n",
       "    </tr>\n",
       "    <tr>\n",
       "      <th>2</th>\n",
       "      <td>Streeterville</td>\n",
       "      <td>6664.666667</td>\n",
       "    </tr>\n",
       "    <tr>\n",
       "      <th>3</th>\n",
       "      <td>West Loop</td>\n",
       "      <td>5163.666667</td>\n",
       "    </tr>\n",
       "    <tr>\n",
       "      <th>4</th>\n",
       "      <td>O'Hare</td>\n",
       "      <td>2546.900000</td>\n",
       "    </tr>\n",
       "  </tbody>\n",
       "</table>\n",
       "</div>"
      ],
      "text/plain": [
       "  dropoff_location_name  average_trips\n",
       "0                  Loop   10727.466667\n",
       "1           River North    9523.666667\n",
       "2         Streeterville    6664.666667\n",
       "3             West Loop    5163.666667\n",
       "4                O'Hare    2546.900000"
      ]
     },
     "execution_count": 7,
     "metadata": {},
     "output_type": "execute_result"
    }
   ],
   "source": [
    "#se visualizan las primeras filas\n",
    "data_barrios.head()"
   ]
  },
  {
   "cell_type": "code",
   "execution_count": 8,
   "metadata": {},
   "outputs": [
    {
     "name": "stdout",
     "output_type": "stream",
     "text": [
      "0\n"
     ]
    }
   ],
   "source": [
    "#verificar si existen datos duplicados\n",
    "print(data_barrios.duplicated().sum())"
   ]
  },
  {
   "cell_type": "markdown",
   "metadata": {},
   "source": [
    "Este data igualmente contiene el tipo de datos correctos, al ser un promedio es preferible usar los decimales para no sesgar información sobre el tiempo en los recorridos, no existe ningun duplicado ni dato ausente, por lo que este data esta en condiciones de poderse usar para su analisis."
   ]
  },
  {
   "cell_type": "code",
   "execution_count": 9,
   "metadata": {},
   "outputs": [
    {
     "name": "stdout",
     "output_type": "stream",
     "text": [
      "<class 'pandas.core.frame.DataFrame'>\n",
      "RangeIndex: 1068 entries, 0 to 1067\n",
      "Data columns (total 3 columns):\n",
      " #   Column              Non-Null Count  Dtype  \n",
      "---  ------              --------------  -----  \n",
      " 0   start_ts            1068 non-null   object \n",
      " 1   weather_conditions  1068 non-null   object \n",
      " 2   duration_seconds    1068 non-null   float64\n",
      "dtypes: float64(1), object(2)\n",
      "memory usage: 25.2+ KB\n"
     ]
    }
   ],
   "source": [
    "#se analiza el data loop aeropuerto\n",
    "data_loop_aeropuerto.info()"
   ]
  },
  {
   "cell_type": "code",
   "execution_count": 10,
   "metadata": {},
   "outputs": [
    {
     "data": {
      "text/html": [
       "<div>\n",
       "<style scoped>\n",
       "    .dataframe tbody tr th:only-of-type {\n",
       "        vertical-align: middle;\n",
       "    }\n",
       "\n",
       "    .dataframe tbody tr th {\n",
       "        vertical-align: top;\n",
       "    }\n",
       "\n",
       "    .dataframe thead th {\n",
       "        text-align: right;\n",
       "    }\n",
       "</style>\n",
       "<table border=\"1\" class=\"dataframe\">\n",
       "  <thead>\n",
       "    <tr style=\"text-align: right;\">\n",
       "      <th></th>\n",
       "      <th>start_ts</th>\n",
       "      <th>weather_conditions</th>\n",
       "      <th>duration_seconds</th>\n",
       "    </tr>\n",
       "  </thead>\n",
       "  <tbody>\n",
       "    <tr>\n",
       "      <th>0</th>\n",
       "      <td>2017-11-25 16:00:00</td>\n",
       "      <td>Good</td>\n",
       "      <td>2410.0</td>\n",
       "    </tr>\n",
       "    <tr>\n",
       "      <th>1</th>\n",
       "      <td>2017-11-25 14:00:00</td>\n",
       "      <td>Good</td>\n",
       "      <td>1920.0</td>\n",
       "    </tr>\n",
       "    <tr>\n",
       "      <th>2</th>\n",
       "      <td>2017-11-25 12:00:00</td>\n",
       "      <td>Good</td>\n",
       "      <td>1543.0</td>\n",
       "    </tr>\n",
       "    <tr>\n",
       "      <th>3</th>\n",
       "      <td>2017-11-04 10:00:00</td>\n",
       "      <td>Good</td>\n",
       "      <td>2512.0</td>\n",
       "    </tr>\n",
       "    <tr>\n",
       "      <th>4</th>\n",
       "      <td>2017-11-11 07:00:00</td>\n",
       "      <td>Good</td>\n",
       "      <td>1440.0</td>\n",
       "    </tr>\n",
       "  </tbody>\n",
       "</table>\n",
       "</div>"
      ],
      "text/plain": [
       "              start_ts weather_conditions  duration_seconds\n",
       "0  2017-11-25 16:00:00               Good            2410.0\n",
       "1  2017-11-25 14:00:00               Good            1920.0\n",
       "2  2017-11-25 12:00:00               Good            1543.0\n",
       "3  2017-11-04 10:00:00               Good            2512.0\n",
       "4  2017-11-11 07:00:00               Good            1440.0"
      ]
     },
     "execution_count": 10,
     "metadata": {},
     "output_type": "execute_result"
    }
   ],
   "source": [
    "#visualizan las primeras filas del data\n",
    "data_loop_aeropuerto.head()"
   ]
  },
  {
   "cell_type": "code",
   "execution_count": 11,
   "metadata": {},
   "outputs": [
    {
     "name": "stdout",
     "output_type": "stream",
     "text": [
      "start_ts              0\n",
      "weather_conditions    0\n",
      "duration_seconds      0\n",
      "dtype: int64\n"
     ]
    }
   ],
   "source": [
    "#verificar si existen valores ausentes\n",
    "print(data_loop_aeropuerto.isna().sum())"
   ]
  },
  {
   "cell_type": "code",
   "execution_count": 12,
   "metadata": {
    "scrolled": true
   },
   "outputs": [
    {
     "name": "stdout",
     "output_type": "stream",
     "text": [
      "197\n"
     ]
    }
   ],
   "source": [
    "#verificar si existen datos duplicados\n",
    "print(data_loop_aeropuerto.duplicated().sum())"
   ]
  },
  {
   "cell_type": "code",
   "execution_count": 13,
   "metadata": {},
   "outputs": [],
   "source": [
    "#eliminan las filas duplicadas\n",
    "data_loop_aeropuerto=data_loop_aeropuerto.drop_duplicates()"
   ]
  },
  {
   "cell_type": "code",
   "execution_count": 14,
   "metadata": {},
   "outputs": [
    {
     "name": "stdout",
     "output_type": "stream",
     "text": [
      "0\n"
     ]
    }
   ],
   "source": [
    "#verificar que ya no hay valores ausentes\n",
    "print(data_loop_aeropuerto.duplicated().sum())"
   ]
  },
  {
   "cell_type": "code",
   "execution_count": 15,
   "metadata": {},
   "outputs": [],
   "source": [
    "#cambiar tipo de la columna start_ts a date time\n",
    "data_loop_aeropuerto[\"start_ts\"]=pd.to_datetime(data_loop_aeropuerto[\"start_ts\"] , format=\"%Y-%m-%d\")"
   ]
  },
  {
   "cell_type": "code",
   "execution_count": 16,
   "metadata": {},
   "outputs": [],
   "source": [
    "#modificar los datos de la  columna \"duration_seconds\" a tipo int \n",
    "data_loop_aeropuerto [\"duration_seconds\"] = data_loop_aeropuerto [\"duration_seconds\"].astype(\"int\")"
   ]
  },
  {
   "cell_type": "code",
   "execution_count": 17,
   "metadata": {},
   "outputs": [
    {
     "name": "stdout",
     "output_type": "stream",
     "text": [
      "<class 'pandas.core.frame.DataFrame'>\n",
      "Int64Index: 871 entries, 0 to 1067\n",
      "Data columns (total 3 columns):\n",
      " #   Column              Non-Null Count  Dtype         \n",
      "---  ------              --------------  -----         \n",
      " 0   start_ts            871 non-null    datetime64[ns]\n",
      " 1   weather_conditions  871 non-null    object        \n",
      " 2   duration_seconds    871 non-null    int64         \n",
      "dtypes: datetime64[ns](1), int64(1), object(1)\n",
      "memory usage: 27.2+ KB\n"
     ]
    }
   ],
   "source": [
    "#corroborar cambio del tipo \n",
    "data_loop_aeropuerto.info()"
   ]
  },
  {
   "cell_type": "code",
   "execution_count": 18,
   "metadata": {},
   "outputs": [
    {
     "data": {
      "text/html": [
       "<div>\n",
       "<style scoped>\n",
       "    .dataframe tbody tr th:only-of-type {\n",
       "        vertical-align: middle;\n",
       "    }\n",
       "\n",
       "    .dataframe tbody tr th {\n",
       "        vertical-align: top;\n",
       "    }\n",
       "\n",
       "    .dataframe thead th {\n",
       "        text-align: right;\n",
       "    }\n",
       "</style>\n",
       "<table border=\"1\" class=\"dataframe\">\n",
       "  <thead>\n",
       "    <tr style=\"text-align: right;\">\n",
       "      <th></th>\n",
       "      <th>start_ts</th>\n",
       "      <th>weather_conditions</th>\n",
       "      <th>duration_seconds</th>\n",
       "    </tr>\n",
       "  </thead>\n",
       "  <tbody>\n",
       "    <tr>\n",
       "      <th>0</th>\n",
       "      <td>2017-11-25 16:00:00</td>\n",
       "      <td>Good</td>\n",
       "      <td>2410</td>\n",
       "    </tr>\n",
       "    <tr>\n",
       "      <th>1</th>\n",
       "      <td>2017-11-25 14:00:00</td>\n",
       "      <td>Good</td>\n",
       "      <td>1920</td>\n",
       "    </tr>\n",
       "    <tr>\n",
       "      <th>2</th>\n",
       "      <td>2017-11-25 12:00:00</td>\n",
       "      <td>Good</td>\n",
       "      <td>1543</td>\n",
       "    </tr>\n",
       "    <tr>\n",
       "      <th>3</th>\n",
       "      <td>2017-11-04 10:00:00</td>\n",
       "      <td>Good</td>\n",
       "      <td>2512</td>\n",
       "    </tr>\n",
       "    <tr>\n",
       "      <th>4</th>\n",
       "      <td>2017-11-11 07:00:00</td>\n",
       "      <td>Good</td>\n",
       "      <td>1440</td>\n",
       "    </tr>\n",
       "    <tr>\n",
       "      <th>...</th>\n",
       "      <td>...</td>\n",
       "      <td>...</td>\n",
       "      <td>...</td>\n",
       "    </tr>\n",
       "    <tr>\n",
       "      <th>1060</th>\n",
       "      <td>2017-11-04 14:00:00</td>\n",
       "      <td>Good</td>\n",
       "      <td>2700</td>\n",
       "    </tr>\n",
       "    <tr>\n",
       "      <th>1061</th>\n",
       "      <td>2017-11-18 16:00:00</td>\n",
       "      <td>Bad</td>\n",
       "      <td>2186</td>\n",
       "    </tr>\n",
       "    <tr>\n",
       "      <th>1063</th>\n",
       "      <td>2017-11-25 11:00:00</td>\n",
       "      <td>Good</td>\n",
       "      <td>0</td>\n",
       "    </tr>\n",
       "    <tr>\n",
       "      <th>1064</th>\n",
       "      <td>2017-11-11 10:00:00</td>\n",
       "      <td>Good</td>\n",
       "      <td>1318</td>\n",
       "    </tr>\n",
       "    <tr>\n",
       "      <th>1067</th>\n",
       "      <td>2017-11-04 16:00:00</td>\n",
       "      <td>Bad</td>\n",
       "      <td>2834</td>\n",
       "    </tr>\n",
       "  </tbody>\n",
       "</table>\n",
       "<p>871 rows × 3 columns</p>\n",
       "</div>"
      ],
      "text/plain": [
       "                start_ts weather_conditions  duration_seconds\n",
       "0    2017-11-25 16:00:00               Good              2410\n",
       "1    2017-11-25 14:00:00               Good              1920\n",
       "2    2017-11-25 12:00:00               Good              1543\n",
       "3    2017-11-04 10:00:00               Good              2512\n",
       "4    2017-11-11 07:00:00               Good              1440\n",
       "...                  ...                ...               ...\n",
       "1060 2017-11-04 14:00:00               Good              2700\n",
       "1061 2017-11-18 16:00:00                Bad              2186\n",
       "1063 2017-11-25 11:00:00               Good                 0\n",
       "1064 2017-11-11 10:00:00               Good              1318\n",
       "1067 2017-11-04 16:00:00                Bad              2834\n",
       "\n",
       "[871 rows x 3 columns]"
      ]
     },
     "execution_count": 18,
     "metadata": {},
     "output_type": "execute_result"
    }
   ],
   "source": [
    "#visualiar la tabla para asegurar no hubo cambios con las mejoras\n",
    "data_loop_aeropuerto"
   ]
  },
  {
   "cell_type": "markdown",
   "metadata": {},
   "source": [
    "En este data a la hora de analizarlo podemos observar que el tipo de dato es correcto para su uso, se convirtio la columna segundos a tipo entero para un mejor analisis, ya que la plataorma redondea los segundos, asi que tener decimlaes no sería útil.\n",
    "El 18% de los datos de la tabla (197 filas) estaban duplicadas, es por ese motivo que se eliminan, ya que iban a sesgar la información aumnetando el número de viajes realizados, creando datos incorrectos para nuestra hipotesis.\n",
    "No había valores ausente. Ahora si la tabla esta lista para su uso."
   ]
  },
  {
   "cell_type": "markdown",
   "metadata": {},
   "source": [
    "# Análisis de datos"
   ]
  },
  {
   "cell_type": "markdown",
   "metadata": {},
   "source": [
    "Se crearán gráficos y un análisis que nos ayude a conocer desde lo barrios mas populares donde viajan los usuarios, las empresas de taxis más populares en la ciudad de Chicago, el número de viajes que se realizan por cada empresa. \n",
    "\n",
    "Esto con la finalidad de entender un poco al usuario y el uso de la plataforma de taxis en la ciudad."
   ]
  },
  {
   "cell_type": "code",
   "execution_count": 19,
   "metadata": {},
   "outputs": [
    {
     "data": {
      "text/html": [
       "<div>\n",
       "<style scoped>\n",
       "    .dataframe tbody tr th:only-of-type {\n",
       "        vertical-align: middle;\n",
       "    }\n",
       "\n",
       "    .dataframe tbody tr th {\n",
       "        vertical-align: top;\n",
       "    }\n",
       "\n",
       "    .dataframe thead th {\n",
       "        text-align: right;\n",
       "    }\n",
       "</style>\n",
       "<table border=\"1\" class=\"dataframe\">\n",
       "  <thead>\n",
       "    <tr style=\"text-align: right;\">\n",
       "      <th></th>\n",
       "      <th>dropoff_location_name</th>\n",
       "      <th>average_trips</th>\n",
       "    </tr>\n",
       "  </thead>\n",
       "  <tbody>\n",
       "    <tr>\n",
       "      <th>0</th>\n",
       "      <td>Loop</td>\n",
       "      <td>10727.466667</td>\n",
       "    </tr>\n",
       "    <tr>\n",
       "      <th>1</th>\n",
       "      <td>River North</td>\n",
       "      <td>9523.666667</td>\n",
       "    </tr>\n",
       "    <tr>\n",
       "      <th>2</th>\n",
       "      <td>Streeterville</td>\n",
       "      <td>6664.666667</td>\n",
       "    </tr>\n",
       "    <tr>\n",
       "      <th>3</th>\n",
       "      <td>West Loop</td>\n",
       "      <td>5163.666667</td>\n",
       "    </tr>\n",
       "    <tr>\n",
       "      <th>4</th>\n",
       "      <td>O'Hare</td>\n",
       "      <td>2546.900000</td>\n",
       "    </tr>\n",
       "    <tr>\n",
       "      <th>...</th>\n",
       "      <td>...</td>\n",
       "      <td>...</td>\n",
       "    </tr>\n",
       "    <tr>\n",
       "      <th>89</th>\n",
       "      <td>Mount Greenwood</td>\n",
       "      <td>3.137931</td>\n",
       "    </tr>\n",
       "    <tr>\n",
       "      <th>90</th>\n",
       "      <td>Hegewisch</td>\n",
       "      <td>3.117647</td>\n",
       "    </tr>\n",
       "    <tr>\n",
       "      <th>91</th>\n",
       "      <td>Burnside</td>\n",
       "      <td>2.333333</td>\n",
       "    </tr>\n",
       "    <tr>\n",
       "      <th>92</th>\n",
       "      <td>East Side</td>\n",
       "      <td>1.961538</td>\n",
       "    </tr>\n",
       "    <tr>\n",
       "      <th>93</th>\n",
       "      <td>Riverdale</td>\n",
       "      <td>1.800000</td>\n",
       "    </tr>\n",
       "  </tbody>\n",
       "</table>\n",
       "<p>94 rows × 2 columns</p>\n",
       "</div>"
      ],
      "text/plain": [
       "   dropoff_location_name  average_trips\n",
       "0                   Loop   10727.466667\n",
       "1            River North    9523.666667\n",
       "2          Streeterville    6664.666667\n",
       "3              West Loop    5163.666667\n",
       "4                 O'Hare    2546.900000\n",
       "..                   ...            ...\n",
       "89       Mount Greenwood       3.137931\n",
       "90             Hegewisch       3.117647\n",
       "91              Burnside       2.333333\n",
       "92             East Side       1.961538\n",
       "93             Riverdale       1.800000\n",
       "\n",
       "[94 rows x 2 columns]"
      ]
     },
     "execution_count": 19,
     "metadata": {},
     "output_type": "execute_result"
    }
   ],
   "source": [
    "# se llama a sort para ordenar los datosde de forma descendente y ubicar el promedio y nombres de las empresas más populares en Chicago de Taxis\n",
    "data_barrios.sort_values(by=\"average_trips\", ascending=False)"
   ]
  },
  {
   "cell_type": "code",
   "execution_count": 20,
   "metadata": {},
   "outputs": [
    {
     "data": {
      "text/html": [
       "<div>\n",
       "<style scoped>\n",
       "    .dataframe tbody tr th:only-of-type {\n",
       "        vertical-align: middle;\n",
       "    }\n",
       "\n",
       "    .dataframe tbody tr th {\n",
       "        vertical-align: top;\n",
       "    }\n",
       "\n",
       "    .dataframe thead th {\n",
       "        text-align: right;\n",
       "    }\n",
       "</style>\n",
       "<table border=\"1\" class=\"dataframe\">\n",
       "  <thead>\n",
       "    <tr style=\"text-align: right;\">\n",
       "      <th></th>\n",
       "      <th>dropoff_location_name</th>\n",
       "      <th>average_trips</th>\n",
       "    </tr>\n",
       "  </thead>\n",
       "  <tbody>\n",
       "    <tr>\n",
       "      <th>0</th>\n",
       "      <td>Loop</td>\n",
       "      <td>10727.466667</td>\n",
       "    </tr>\n",
       "    <tr>\n",
       "      <th>1</th>\n",
       "      <td>River North</td>\n",
       "      <td>9523.666667</td>\n",
       "    </tr>\n",
       "    <tr>\n",
       "      <th>2</th>\n",
       "      <td>Streeterville</td>\n",
       "      <td>6664.666667</td>\n",
       "    </tr>\n",
       "    <tr>\n",
       "      <th>3</th>\n",
       "      <td>West Loop</td>\n",
       "      <td>5163.666667</td>\n",
       "    </tr>\n",
       "    <tr>\n",
       "      <th>4</th>\n",
       "      <td>O'Hare</td>\n",
       "      <td>2546.900000</td>\n",
       "    </tr>\n",
       "    <tr>\n",
       "      <th>5</th>\n",
       "      <td>Lake View</td>\n",
       "      <td>2420.966667</td>\n",
       "    </tr>\n",
       "    <tr>\n",
       "      <th>6</th>\n",
       "      <td>Grant Park</td>\n",
       "      <td>2068.533333</td>\n",
       "    </tr>\n",
       "    <tr>\n",
       "      <th>7</th>\n",
       "      <td>Museum Campus</td>\n",
       "      <td>1510.000000</td>\n",
       "    </tr>\n",
       "    <tr>\n",
       "      <th>8</th>\n",
       "      <td>Gold Coast</td>\n",
       "      <td>1364.233333</td>\n",
       "    </tr>\n",
       "    <tr>\n",
       "      <th>9</th>\n",
       "      <td>Sheffield &amp; DePaul</td>\n",
       "      <td>1259.766667</td>\n",
       "    </tr>\n",
       "    <tr>\n",
       "      <th>10</th>\n",
       "      <td>Lincoln Park</td>\n",
       "      <td>1246.533333</td>\n",
       "    </tr>\n",
       "    <tr>\n",
       "      <th>11</th>\n",
       "      <td>East Village</td>\n",
       "      <td>1212.066667</td>\n",
       "    </tr>\n",
       "    <tr>\n",
       "      <th>12</th>\n",
       "      <td>Little Italy, UIC</td>\n",
       "      <td>863.700000</td>\n",
       "    </tr>\n",
       "    <tr>\n",
       "      <th>13</th>\n",
       "      <td>Uptown</td>\n",
       "      <td>849.666667</td>\n",
       "    </tr>\n",
       "    <tr>\n",
       "      <th>14</th>\n",
       "      <td>Near South Side</td>\n",
       "      <td>839.833333</td>\n",
       "    </tr>\n",
       "  </tbody>\n",
       "</table>\n",
       "</div>"
      ],
      "text/plain": [
       "   dropoff_location_name  average_trips\n",
       "0                   Loop   10727.466667\n",
       "1            River North    9523.666667\n",
       "2          Streeterville    6664.666667\n",
       "3              West Loop    5163.666667\n",
       "4                 O'Hare    2546.900000\n",
       "5              Lake View    2420.966667\n",
       "6             Grant Park    2068.533333\n",
       "7          Museum Campus    1510.000000\n",
       "8             Gold Coast    1364.233333\n",
       "9     Sheffield & DePaul    1259.766667\n",
       "10          Lincoln Park    1246.533333\n",
       "11          East Village    1212.066667\n",
       "12     Little Italy, UIC     863.700000\n",
       "13                Uptown     849.666667\n",
       "14       Near South Side     839.833333"
      ]
     },
     "execution_count": 20,
     "metadata": {},
     "output_type": "execute_result"
    }
   ],
   "source": [
    "#se llaman a los primeros  datos de la tabla ordenada para conocr a las 15 empresas más populares de la ciudad\n",
    "#y conocer el promedio de viajes realizados el 15 y 16 de Nov del 2017.\n",
    "data_barrios.head(15)"
   ]
  },
  {
   "cell_type": "code",
   "execution_count": 21,
   "metadata": {},
   "outputs": [],
   "source": [
    "#Se crea un filto para identificar los 10 principales barrios en términos de finalización del recorrido\n",
    "barrios_populares = data_barrios.query(\"average_trips > 1213\")[[\"dropoff_location_name\",\"average_trips\"]]\n",
    "#se coloca maos a 1213 ya que al ver los datos ordenados podemos ver que de ese promedio en adelante son las 10 empresas más popuales"
   ]
  },
  {
   "cell_type": "code",
   "execution_count": 22,
   "metadata": {},
   "outputs": [
    {
     "data": {
      "image/png": "[encoded data removed]",
      "text/plain": [
       "<Figure size 640x480 with 1 Axes>"
      ]
     },
     "metadata": {},
     "output_type": "display_data"
    }
   ],
   "source": [
    "#Se crea un gráfico de barras para mejor visualización de la información solicitada\n",
    "barrios_populares.plot(x=\"dropoff_location_name\", y=\"average_trips\", kind= \"bar\", xlabel= \"Barrios de la ciudad de Chigado donde viajaron los usuarios\",\n",
    "                   ylabel=\"Cantidad de viajes realizados\",\n",
    "                   title=\"Viajes realizados a los barrios de Chicago del 15 y 16 de noviembre de 2017\", \n",
    "                   color=\"violet\")\n",
    "plt.show()"
   ]
  },
  {
   "cell_type": "markdown",
   "metadata": {},
   "source": [
    "Ahora que ya conocemos los barrios más populares donde los usuarios de taxis en Chicago van, vamos a analizar las diferentes empresas que los usuarios preieren utilizar y nuevamente ubicaremos las 10 empresas más populares.\n",
    "Si observamos y analiamos los 10 lugares más populares podremos entender que estos puntos son lugares turisticos, historicos y los puntos más importantes de la ciudad, zonas donde se desarrolla el comercio local, museos, parques importantes de la ciudad incluido en el sitio 5 el aeropuerto. Lo que nos ayuda a entender porque estos sitios son los más populares, pues pueden ser punto de reunión tanto para locales como extranjeros conociendo la ciudad."
   ]
  },
  {
   "cell_type": "code",
   "execution_count": 23,
   "metadata": {},
   "outputs": [
    {
     "data": {
      "text/html": [
       "<div>\n",
       "<style scoped>\n",
       "    .dataframe tbody tr th:only-of-type {\n",
       "        vertical-align: middle;\n",
       "    }\n",
       "\n",
       "    .dataframe tbody tr th {\n",
       "        vertical-align: top;\n",
       "    }\n",
       "\n",
       "    .dataframe thead th {\n",
       "        text-align: right;\n",
       "    }\n",
       "</style>\n",
       "<table border=\"1\" class=\"dataframe\">\n",
       "  <thead>\n",
       "    <tr style=\"text-align: right;\">\n",
       "      <th></th>\n",
       "      <th>company_name</th>\n",
       "      <th>trips_amount</th>\n",
       "    </tr>\n",
       "  </thead>\n",
       "  <tbody>\n",
       "    <tr>\n",
       "      <th>0</th>\n",
       "      <td>Flash Cab</td>\n",
       "      <td>19558</td>\n",
       "    </tr>\n",
       "    <tr>\n",
       "      <th>1</th>\n",
       "      <td>Taxi Affiliation Services</td>\n",
       "      <td>11422</td>\n",
       "    </tr>\n",
       "    <tr>\n",
       "      <th>2</th>\n",
       "      <td>Medallion Leasing</td>\n",
       "      <td>10367</td>\n",
       "    </tr>\n",
       "    <tr>\n",
       "      <th>3</th>\n",
       "      <td>Yellow Cab</td>\n",
       "      <td>9888</td>\n",
       "    </tr>\n",
       "    <tr>\n",
       "      <th>4</th>\n",
       "      <td>Taxi Affiliation Service Yellow</td>\n",
       "      <td>9299</td>\n",
       "    </tr>\n",
       "    <tr>\n",
       "      <th>...</th>\n",
       "      <td>...</td>\n",
       "      <td>...</td>\n",
       "    </tr>\n",
       "    <tr>\n",
       "      <th>59</th>\n",
       "      <td>4053 - 40193 Adwar H. Nikola</td>\n",
       "      <td>7</td>\n",
       "    </tr>\n",
       "    <tr>\n",
       "      <th>60</th>\n",
       "      <td>2733 - 74600 Benny Jona</td>\n",
       "      <td>7</td>\n",
       "    </tr>\n",
       "    <tr>\n",
       "      <th>61</th>\n",
       "      <td>5874 - 73628 Sergey Cab Corp.</td>\n",
       "      <td>5</td>\n",
       "    </tr>\n",
       "    <tr>\n",
       "      <th>62</th>\n",
       "      <td>2241 - 44667 - Felman Corp</td>\n",
       "      <td>3</td>\n",
       "    </tr>\n",
       "    <tr>\n",
       "      <th>63</th>\n",
       "      <td>3556 - 36214 RC Andrews Cab</td>\n",
       "      <td>2</td>\n",
       "    </tr>\n",
       "  </tbody>\n",
       "</table>\n",
       "<p>64 rows × 2 columns</p>\n",
       "</div>"
      ],
      "text/plain": [
       "                       company_name  trips_amount\n",
       "0                         Flash Cab         19558\n",
       "1         Taxi Affiliation Services         11422\n",
       "2                 Medallion Leasing         10367\n",
       "3                        Yellow Cab          9888\n",
       "4   Taxi Affiliation Service Yellow          9299\n",
       "..                              ...           ...\n",
       "59     4053 - 40193 Adwar H. Nikola             7\n",
       "60          2733 - 74600 Benny Jona             7\n",
       "61    5874 - 73628 Sergey Cab Corp.             5\n",
       "62       2241 - 44667 - Felman Corp             3\n",
       "63      3556 - 36214 RC Andrews Cab             2\n",
       "\n",
       "[64 rows x 2 columns]"
      ]
     },
     "execution_count": 23,
     "metadata": {},
     "output_type": "execute_result"
    }
   ],
   "source": [
    "#hacer gráficos: empresas de taxis y número de viajes, los 10 barrios principales por número de finalizaciones\n",
    "data_compañias.sort_values(by=\"trips_amount\", ascending=False)"
   ]
  },
  {
   "cell_type": "code",
   "execution_count": 24,
   "metadata": {},
   "outputs": [
    {
     "data": {
      "text/html": [
       "<div>\n",
       "<style scoped>\n",
       "    .dataframe tbody tr th:only-of-type {\n",
       "        vertical-align: middle;\n",
       "    }\n",
       "\n",
       "    .dataframe tbody tr th {\n",
       "        vertical-align: top;\n",
       "    }\n",
       "\n",
       "    .dataframe thead th {\n",
       "        text-align: right;\n",
       "    }\n",
       "</style>\n",
       "<table border=\"1\" class=\"dataframe\">\n",
       "  <thead>\n",
       "    <tr style=\"text-align: right;\">\n",
       "      <th></th>\n",
       "      <th>company_name</th>\n",
       "      <th>trips_amount</th>\n",
       "    </tr>\n",
       "  </thead>\n",
       "  <tbody>\n",
       "    <tr>\n",
       "      <th>0</th>\n",
       "      <td>Flash Cab</td>\n",
       "      <td>19558</td>\n",
       "    </tr>\n",
       "    <tr>\n",
       "      <th>1</th>\n",
       "      <td>Taxi Affiliation Services</td>\n",
       "      <td>11422</td>\n",
       "    </tr>\n",
       "    <tr>\n",
       "      <th>2</th>\n",
       "      <td>Medallion Leasing</td>\n",
       "      <td>10367</td>\n",
       "    </tr>\n",
       "    <tr>\n",
       "      <th>3</th>\n",
       "      <td>Yellow Cab</td>\n",
       "      <td>9888</td>\n",
       "    </tr>\n",
       "    <tr>\n",
       "      <th>4</th>\n",
       "      <td>Taxi Affiliation Service Yellow</td>\n",
       "      <td>9299</td>\n",
       "    </tr>\n",
       "    <tr>\n",
       "      <th>5</th>\n",
       "      <td>Chicago Carriage Cab Corp</td>\n",
       "      <td>9181</td>\n",
       "    </tr>\n",
       "    <tr>\n",
       "      <th>6</th>\n",
       "      <td>City Service</td>\n",
       "      <td>8448</td>\n",
       "    </tr>\n",
       "    <tr>\n",
       "      <th>7</th>\n",
       "      <td>Sun Taxi</td>\n",
       "      <td>7701</td>\n",
       "    </tr>\n",
       "    <tr>\n",
       "      <th>8</th>\n",
       "      <td>Star North Management LLC</td>\n",
       "      <td>7455</td>\n",
       "    </tr>\n",
       "    <tr>\n",
       "      <th>9</th>\n",
       "      <td>Blue Ribbon Taxi Association Inc.</td>\n",
       "      <td>5953</td>\n",
       "    </tr>\n",
       "    <tr>\n",
       "      <th>10</th>\n",
       "      <td>Choice Taxi Association</td>\n",
       "      <td>5015</td>\n",
       "    </tr>\n",
       "    <tr>\n",
       "      <th>11</th>\n",
       "      <td>Globe Taxi</td>\n",
       "      <td>4383</td>\n",
       "    </tr>\n",
       "    <tr>\n",
       "      <th>12</th>\n",
       "      <td>Dispatch Taxi Affiliation</td>\n",
       "      <td>3355</td>\n",
       "    </tr>\n",
       "    <tr>\n",
       "      <th>13</th>\n",
       "      <td>Nova Taxi Affiliation Llc</td>\n",
       "      <td>3175</td>\n",
       "    </tr>\n",
       "    <tr>\n",
       "      <th>14</th>\n",
       "      <td>Patriot Taxi Dba Peace Taxi Association</td>\n",
       "      <td>2235</td>\n",
       "    </tr>\n",
       "  </tbody>\n",
       "</table>\n",
       "</div>"
      ],
      "text/plain": [
       "                               company_name  trips_amount\n",
       "0                                 Flash Cab         19558\n",
       "1                 Taxi Affiliation Services         11422\n",
       "2                         Medallion Leasing         10367\n",
       "3                                Yellow Cab          9888\n",
       "4           Taxi Affiliation Service Yellow          9299\n",
       "5                 Chicago Carriage Cab Corp          9181\n",
       "6                              City Service          8448\n",
       "7                                  Sun Taxi          7701\n",
       "8                 Star North Management LLC          7455\n",
       "9         Blue Ribbon Taxi Association Inc.          5953\n",
       "10                  Choice Taxi Association          5015\n",
       "11                               Globe Taxi          4383\n",
       "12                Dispatch Taxi Affiliation          3355\n",
       "13                Nova Taxi Affiliation Llc          3175\n",
       "14  Patriot Taxi Dba Peace Taxi Association          2235"
      ]
     },
     "execution_count": 24,
     "metadata": {},
     "output_type": "execute_result"
    }
   ],
   "source": [
    "data_compañias.head(15)"
   ]
  },
  {
   "cell_type": "code",
   "execution_count": 25,
   "metadata": {},
   "outputs": [],
   "source": [
    "#Se crea un filto para identificar los 10 principales compañias \n",
    "compañias_populares = data_compañias.query(\"trips_amount > 5000\")[[\"company_name\",\"trips_amount\"]]\n",
    "#se coloca maos a 5000 ya que al ver los datos ordenados podemos ver que de ese promedio en adelante son las 10 empresas más popuales"
   ]
  },
  {
   "cell_type": "code",
   "execution_count": 26,
   "metadata": {},
   "outputs": [
    {
     "data": {
      "image/png": "[encoded data removed]",
      "text/plain": [
       "<Figure size 640x480 with 1 Axes>"
      ]
     },
     "metadata": {},
     "output_type": "display_data"
    }
   ],
   "source": [
    "#Se crea un gráfico de barras para mejor visualización de la información solicitada\n",
    "compañias_populares.plot(x=\"company_name\", y=\"trips_amount\", kind= \"bar\", xlabel= \"Compañias de taxis más usadas en Chigado en el mes de Noviembre\" ,\n",
    "                   ylabel=\"Cantidad de viajes realizados\",\n",
    "                   title=\"Viajes realizados por compañia de taxis\", \n",
    "                   color=\"hotpink\")\n",
    "plt.show()"
   ]
  },
  {
   "cell_type": "markdown",
   "metadata": {},
   "source": [
    "La compañia más popular por mucho en el área es Flash Cab, debemos analizar que es lo que hace esta aplicación tan popular.\n",
    "Después de ella podemos observar que casi todos las plataformas posteriores mantienen un nivel de servicios muy similar, con un promedio de 11000 a 8000 viajes al mes.\n",
    "Deberiamos analizar si algún dia se busca crecer que es lo que diferencia a Flash Cab de la competencia que lo hace tan superior en su número de servicios mensuales."
   ]
  },
  {
   "cell_type": "markdown",
   "metadata": {},
   "source": [
    "Como podemos observar en abas gráficas,la ciudad de Chicago contiene muchos puntos turisticos a visitar, lo cual hace que el servicio de taxis en la ciudad sea tan popular, pues puede ser utiliado por locales como por extranjeros o visitantes que busquen conocer de la cultura y riqueza de esta ciudad.\n",
    "Los puntos más populares son Loop la zona más centrica  turistica de la ciudad, seguido por parques, museos, lagos y en quinto lugar el aeropuerto de la ciudad.\n",
    "Esto hace mucho sentido con la solicitud de taxis en la ciudad pues son puntos donde generalmente se llega sin un auto particular.\n",
    "El aeropuerto al sr el 5to lugar más solicitado para los servicios de taxis nos da un gran margen de datos para su analisis posterior.\n",
    "Aunque este analisis no revela más que las compañias de taxis más populares en la ciudad, es indicutible que Flas Cab acapará el mayor porcentaje de viajes. Investigar porque es tarea de otro trabajo, pero sin duda, a pesar de las diversas compñias que existen es evidente el favoritismo en la ciudad."
   ]
  },
  {
   "cell_type": "markdown",
   "metadata": {},
   "source": [
    "# Prueba de Hipótesis"
   ]
  },
  {
   "cell_type": "markdown",
   "metadata": {},
   "source": [
    "El data que hemos nombrado como \"data_loop_aeropuerto\" es el resultado de la última consulta. \n",
    "\n",
    "\n",
    "Este data contiene datos sobre viajes desde el barrio Loop hasta el Aeropuerto Internacional O'Hare. Este data ya esta filtrado y nos arroja solo viajes desde los barrios necesarios, se analiarzá que sea solo del día necesario (Sabado) y se buscará si existe alguna relación con el tiempo y si aecta el clima en el mismo"
   ]
  },
  {
   "cell_type": "code",
   "execution_count": 27,
   "metadata": {},
   "outputs": [
    {
     "name": "stdout",
     "output_type": "stream",
     "text": [
      "<class 'pandas.core.frame.DataFrame'>\n",
      "Int64Index: 871 entries, 0 to 1067\n",
      "Data columns (total 3 columns):\n",
      " #   Column              Non-Null Count  Dtype         \n",
      "---  ------              --------------  -----         \n",
      " 0   start_ts            871 non-null    datetime64[ns]\n",
      " 1   weather_conditions  871 non-null    object        \n",
      " 2   duration_seconds    871 non-null    int64         \n",
      "dtypes: datetime64[ns](1), int64(1), object(1)\n",
      "memory usage: 27.2+ KB\n"
     ]
    }
   ],
   "source": [
    "data_loop_aeropuerto.info()"
   ]
  },
  {
   "cell_type": "code",
   "execution_count": 28,
   "metadata": {},
   "outputs": [
    {
     "data": {
      "text/plain": [
       "<bound method NDFrame.head of                 start_ts weather_conditions  duration_seconds\n",
       "0    2017-11-25 16:00:00               Good              2410\n",
       "1    2017-11-25 14:00:00               Good              1920\n",
       "2    2017-11-25 12:00:00               Good              1543\n",
       "3    2017-11-04 10:00:00               Good              2512\n",
       "4    2017-11-11 07:00:00               Good              1440\n",
       "...                  ...                ...               ...\n",
       "1060 2017-11-04 14:00:00               Good              2700\n",
       "1061 2017-11-18 16:00:00                Bad              2186\n",
       "1063 2017-11-25 11:00:00               Good                 0\n",
       "1064 2017-11-11 10:00:00               Good              1318\n",
       "1067 2017-11-04 16:00:00                Bad              2834\n",
       "\n",
       "[871 rows x 3 columns]>"
      ]
     },
     "execution_count": 28,
     "metadata": {},
     "output_type": "execute_result"
    }
   ],
   "source": [
    "data_loop_aeropuerto.head"
   ]
  },
  {
   "cell_type": "code",
   "execution_count": 29,
   "metadata": {},
   "outputs": [],
   "source": [
    "# Crear una nueva columna 'month' que extraiga el mes de la columna 'session_date'\n",
    "data_loop_aeropuerto['day_of_week'] = data_loop_aeropuerto['start_ts'].dt.weekday"
   ]
  },
  {
   "cell_type": "code",
   "execution_count": 30,
   "metadata": {},
   "outputs": [
    {
     "data": {
      "text/html": [
       "<div>\n",
       "<style scoped>\n",
       "    .dataframe tbody tr th:only-of-type {\n",
       "        vertical-align: middle;\n",
       "    }\n",
       "\n",
       "    .dataframe tbody tr th {\n",
       "        vertical-align: top;\n",
       "    }\n",
       "\n",
       "    .dataframe thead th {\n",
       "        text-align: right;\n",
       "    }\n",
       "</style>\n",
       "<table border=\"1\" class=\"dataframe\">\n",
       "  <thead>\n",
       "    <tr style=\"text-align: right;\">\n",
       "      <th></th>\n",
       "      <th>start_ts</th>\n",
       "      <th>weather_conditions</th>\n",
       "      <th>duration_seconds</th>\n",
       "      <th>day_of_week</th>\n",
       "    </tr>\n",
       "  </thead>\n",
       "  <tbody>\n",
       "    <tr>\n",
       "      <th>0</th>\n",
       "      <td>2017-11-25 16:00:00</td>\n",
       "      <td>Good</td>\n",
       "      <td>2410</td>\n",
       "      <td>5</td>\n",
       "    </tr>\n",
       "    <tr>\n",
       "      <th>1</th>\n",
       "      <td>2017-11-25 14:00:00</td>\n",
       "      <td>Good</td>\n",
       "      <td>1920</td>\n",
       "      <td>5</td>\n",
       "    </tr>\n",
       "    <tr>\n",
       "      <th>2</th>\n",
       "      <td>2017-11-25 12:00:00</td>\n",
       "      <td>Good</td>\n",
       "      <td>1543</td>\n",
       "      <td>5</td>\n",
       "    </tr>\n",
       "    <tr>\n",
       "      <th>3</th>\n",
       "      <td>2017-11-04 10:00:00</td>\n",
       "      <td>Good</td>\n",
       "      <td>2512</td>\n",
       "      <td>5</td>\n",
       "    </tr>\n",
       "    <tr>\n",
       "      <th>4</th>\n",
       "      <td>2017-11-11 07:00:00</td>\n",
       "      <td>Good</td>\n",
       "      <td>1440</td>\n",
       "      <td>5</td>\n",
       "    </tr>\n",
       "    <tr>\n",
       "      <th>...</th>\n",
       "      <td>...</td>\n",
       "      <td>...</td>\n",
       "      <td>...</td>\n",
       "      <td>...</td>\n",
       "    </tr>\n",
       "    <tr>\n",
       "      <th>1060</th>\n",
       "      <td>2017-11-04 14:00:00</td>\n",
       "      <td>Good</td>\n",
       "      <td>2700</td>\n",
       "      <td>5</td>\n",
       "    </tr>\n",
       "    <tr>\n",
       "      <th>1061</th>\n",
       "      <td>2017-11-18 16:00:00</td>\n",
       "      <td>Bad</td>\n",
       "      <td>2186</td>\n",
       "      <td>5</td>\n",
       "    </tr>\n",
       "    <tr>\n",
       "      <th>1063</th>\n",
       "      <td>2017-11-25 11:00:00</td>\n",
       "      <td>Good</td>\n",
       "      <td>0</td>\n",
       "      <td>5</td>\n",
       "    </tr>\n",
       "    <tr>\n",
       "      <th>1064</th>\n",
       "      <td>2017-11-11 10:00:00</td>\n",
       "      <td>Good</td>\n",
       "      <td>1318</td>\n",
       "      <td>5</td>\n",
       "    </tr>\n",
       "    <tr>\n",
       "      <th>1067</th>\n",
       "      <td>2017-11-04 16:00:00</td>\n",
       "      <td>Bad</td>\n",
       "      <td>2834</td>\n",
       "      <td>5</td>\n",
       "    </tr>\n",
       "  </tbody>\n",
       "</table>\n",
       "<p>871 rows × 4 columns</p>\n",
       "</div>"
      ],
      "text/plain": [
       "                start_ts weather_conditions  duration_seconds  day_of_week\n",
       "0    2017-11-25 16:00:00               Good              2410            5\n",
       "1    2017-11-25 14:00:00               Good              1920            5\n",
       "2    2017-11-25 12:00:00               Good              1543            5\n",
       "3    2017-11-04 10:00:00               Good              2512            5\n",
       "4    2017-11-11 07:00:00               Good              1440            5\n",
       "...                  ...                ...               ...          ...\n",
       "1060 2017-11-04 14:00:00               Good              2700            5\n",
       "1061 2017-11-18 16:00:00                Bad              2186            5\n",
       "1063 2017-11-25 11:00:00               Good                 0            5\n",
       "1064 2017-11-11 10:00:00               Good              1318            5\n",
       "1067 2017-11-04 16:00:00                Bad              2834            5\n",
       "\n",
       "[871 rows x 4 columns]"
      ]
     },
     "execution_count": 30,
     "metadata": {},
     "output_type": "execute_result"
    }
   ],
   "source": [
    "data_loop_aeropuerto"
   ]
  },
  {
   "cell_type": "markdown",
   "metadata": {},
   "source": [
    "Confirmamos con la nueva columna que este data contiene información de los dias sabados lo que nos indica que este data no necesita más filtros en el día en el que se realizó el viaje para la hipótesis"
   ]
  },
  {
   "cell_type": "markdown",
   "metadata": {},
   "source": [
    "Para este trabajo nos proponemos averiguar si \"La duración promedio de los viajes desde el barrio Loop hasta el Aeropuerto Internacional O'Hare tienen alguna alteración los sábados cuando el clima esta lluvioso (clasificado como Bad)\". Con esto en mente podemos platear las siguientes hipotesis:\n",
    "\n",
    "\n",
    "H0:\n",
    "\"La duración promedio de los viajes desde el Loop hasta el Aeropuerto Internacional O'Hare No cambia los días sábados lluviosos\"\n",
    "\n",
    "H1:\n",
    "\"La duración promedio de los viajes desde el Loop hasta el Aeropuerto Internacional O'Hare cambia los sábados lluviosos\""
   ]
  },
  {
   "cell_type": "code",
   "execution_count": 31,
   "metadata": {},
   "outputs": [
    {
     "name": "stdout",
     "output_type": "stream",
     "text": [
      "Valor p: 7.397770692813658e-08\n",
      "Se rechaza la Ho\n"
     ]
    }
   ],
   "source": [
    "\n",
    "#Y se hace un segundo filtro donde se consideren los viajes que van de Loop hasta el Aeropuerto UNICAMENTE\n",
    "bad_day = data_loop_aeropuerto[(data_loop_aeropuerto['weather_conditions'] == 'Bad')][\"duration_seconds\"] \n",
    "good_day = data_loop_aeropuerto[(data_loop_aeropuerto['weather_conditions'] == 'Good')][\"duration_seconds\"] \n",
    "\n",
    "#coloca un nivel de significancia estadistica critica del 5%\n",
    "alpha= 0.05\n",
    "\n",
    "#mostar resultados\n",
    "results=st.ttest_ind(bad_day, good_day)\n",
    "\n",
    "#imrime el valor p\n",
    "print(\"Valor p:\", results.pvalue)\n",
    "\n",
    "if results.pvalue < alpha:\n",
    "    print(\"Se rechaza la Ho\")\n",
    "    \n",
    "else:\n",
    "    print(\"No se rechaza la Ho\")"
   ]
  },
  {
   "cell_type": "markdown",
   "metadata": {},
   "source": [
    "— Para esta prueba de hipótesis se buscó conocer si los tiempos en los viajes desde el Barrio Loop hasta el Aeropuerto se veían afectado por las condiciones climitacas buscando entender si un día lluvioso afectaba en el transporte, bucando si los tiempos de transalado son iguales o existen diferencias significativas entre ambos tipos de climas. \n",
    "\n",
    "Para esta prueba se dio un 5% de valor alpha de diferencia para poder tener un margén para hacer la prueba.\n",
    "\n",
    "— Para esta prueba usamos la prueba T de Student, para observar si existen diferencias significtivas entre ambos grupos a comparar (Good and Bad clime) y así poder comprobar si se puede rechazar o aceptar las hipotesis planteadas.\n",
    "\n",
    "Al realizar las pruebas de estadistica podemos concluir que el clima en la ciudad de Chicago Si afecta los tiempos de translado desde el centro de la ciudad (Loop) hasta el Aeropuerto. Logrando concluir que dependiendo el clima si será afectado el transito en la ciudad. \n",
    "\n",
    "\n",
    "Es por esta razón que se rechaza la h0, la cual plantea que: La duración promedio de los viajes desde el Loop hasta el Aeropuerto Internacional O'Hare No cambia los días sábados lluviosos. O en otras palabras se acpta la H1."
   ]
  },
  {
   "cell_type": "markdown",
   "metadata": {},
   "source": [
    "# Conclusion General"
   ]
  },
  {
   "cell_type": "markdown",
   "metadata": {},
   "source": [
    "La ciudad de Chicago sin duda es un pun turistico que gracias a sus plataformas de taxis logra moviliar a miles de usuarios día a día.\n",
    "Chicago cuenta con grandes lugares para visitar siendo obvio este punto al observar que los lugares donde finalizan los viajes de los taxis son justo en estos lugares de la ciudad.\n",
    "Aunque Chicago cuenta con una gran variedad de empresas de taxis es evidente la preerencia por Flash Cab, sería interesante en un futuro analizar esta plataforma cuales son sus beneficios o caracteristicas que lo hacen tan popular, y así lograr una competencia más justa en la ciudad con las demás empresas de taxis.\n",
    "Un punto importante si deseamos movilizarnos en la ciudad de Chicago como pasa en mucha ciudades metropolitanas del mundo es que el clima SI afecta los tiempos de transalado, sin contar el aumnto de precio que se observa por los tiempos aumentados en transalado. \n",
    "\n",
    "Un dato interesante que podemos observar de esta ciudad es que es de suma importancia que si deseamos solicitar un servicio de taxi es importante no solo planear el día pensando en la cercania d elos puntos a visitar pero no debemos olvidar checar el clima y anticipar contratiempos en el tráfico de la ciudad."
   ]
  }
 ],
 "metadata": {
  "ExecuteTimeLog": [
   {
    "duration": 2462,
    "start_time": "2024-12-02T22:47:11.289Z"
   },
   {
    "duration": 24,
    "start_time": "2024-12-02T22:49:41.166Z"
   },
   {
    "duration": 9,
    "start_time": "2024-12-02T22:52:08.528Z"
   },
   {
    "duration": 7,
    "start_time": "2024-12-02T22:52:49.091Z"
   },
   {
    "duration": 3,
    "start_time": "2024-12-02T22:59:37.049Z"
   },
   {
    "duration": 9,
    "start_time": "2024-12-02T23:02:38.180Z"
   },
   {
    "duration": 7,
    "start_time": "2024-12-02T23:03:37.836Z"
   },
   {
    "duration": 4,
    "start_time": "2024-12-02T23:04:49.967Z"
   },
   {
    "duration": 9,
    "start_time": "2024-12-02T23:05:20.758Z"
   },
   {
    "duration": 8,
    "start_time": "2024-12-02T23:05:49.093Z"
   },
   {
    "duration": 4,
    "start_time": "2024-12-02T23:06:10.528Z"
   },
   {
    "duration": 4,
    "start_time": "2024-12-02T23:14:40.349Z"
   },
   {
    "duration": 260,
    "start_time": "2024-12-02T23:23:56.164Z"
   },
   {
    "duration": 22,
    "start_time": "2024-12-02T23:24:49.513Z"
   },
   {
    "duration": 455,
    "start_time": "2024-12-02T23:25:21.872Z"
   },
   {
    "duration": 1279,
    "start_time": "2024-12-02T23:25:38.185Z"
   },
   {
    "duration": 6,
    "start_time": "2024-12-02T23:28:48.289Z"
   },
   {
    "duration": 6,
    "start_time": "2024-12-02T23:28:58.490Z"
   },
   {
    "duration": 8,
    "start_time": "2024-12-02T23:29:12.830Z"
   },
   {
    "duration": 6,
    "start_time": "2024-12-02T23:29:37.320Z"
   },
   {
    "duration": 8,
    "start_time": "2024-12-02T23:34:23.501Z"
   },
   {
    "duration": 6,
    "start_time": "2024-12-02T23:36:27.054Z"
   },
   {
    "duration": 6,
    "start_time": "2024-12-02T23:36:32.778Z"
   },
   {
    "duration": 14,
    "start_time": "2024-12-02T23:38:03.313Z"
   },
   {
    "duration": 13,
    "start_time": "2024-12-02T23:38:18.431Z"
   },
   {
    "duration": 8,
    "start_time": "2024-12-02T23:39:03.946Z"
   },
   {
    "duration": 6,
    "start_time": "2024-12-02T23:39:14.944Z"
   },
   {
    "duration": 13,
    "start_time": "2024-12-02T23:39:29.017Z"
   },
   {
    "duration": 11,
    "start_time": "2024-12-02T23:40:02.628Z"
   },
   {
    "duration": 126,
    "start_time": "2024-12-02T23:40:04.679Z"
   },
   {
    "duration": 4,
    "start_time": "2024-12-02T23:40:38.502Z"
   },
   {
    "duration": 167,
    "start_time": "2024-12-02T23:40:39.426Z"
   },
   {
    "duration": 151,
    "start_time": "2024-12-02T23:42:10.214Z"
   },
   {
    "duration": 6,
    "start_time": "2024-12-02T23:57:20.569Z"
   },
   {
    "duration": 17,
    "start_time": "2024-12-02T23:57:50.880Z"
   },
   {
    "duration": 7,
    "start_time": "2024-12-02T23:58:31.127Z"
   },
   {
    "duration": 5,
    "start_time": "2024-12-03T00:10:29.017Z"
   },
   {
    "duration": 15,
    "start_time": "2024-12-03T00:23:09.480Z"
   },
   {
    "duration": 119,
    "start_time": "2024-12-03T00:23:56.191Z"
   },
   {
    "duration": 5,
    "start_time": "2024-12-03T00:24:23.416Z"
   },
   {
    "duration": 171,
    "start_time": "2024-12-03T00:24:24.634Z"
   },
   {
    "duration": 762,
    "start_time": "2024-12-03T00:24:49.674Z"
   },
   {
    "duration": 15,
    "start_time": "2024-12-03T00:24:50.439Z"
   },
   {
    "duration": 9,
    "start_time": "2024-12-03T00:24:50.455Z"
   },
   {
    "duration": 7,
    "start_time": "2024-12-03T00:24:50.465Z"
   },
   {
    "duration": 3,
    "start_time": "2024-12-03T00:24:50.474Z"
   },
   {
    "duration": 8,
    "start_time": "2024-12-03T00:24:50.479Z"
   },
   {
    "duration": 5,
    "start_time": "2024-12-03T00:24:50.489Z"
   },
   {
    "duration": 29,
    "start_time": "2024-12-03T00:24:50.496Z"
   },
   {
    "duration": 7,
    "start_time": "2024-12-03T00:24:50.527Z"
   },
   {
    "duration": 6,
    "start_time": "2024-12-03T00:24:50.536Z"
   },
   {
    "duration": 4,
    "start_time": "2024-12-03T00:24:50.544Z"
   },
   {
    "duration": 3,
    "start_time": "2024-12-03T00:24:50.550Z"
   },
   {
    "duration": 8,
    "start_time": "2024-12-03T00:24:50.555Z"
   },
   {
    "duration": 6,
    "start_time": "2024-12-03T00:24:50.566Z"
   },
   {
    "duration": 5,
    "start_time": "2024-12-03T00:24:50.573Z"
   },
   {
    "duration": 217,
    "start_time": "2024-12-03T00:24:50.580Z"
   },
   {
    "duration": 8,
    "start_time": "2024-12-03T00:24:50.798Z"
   },
   {
    "duration": 17,
    "start_time": "2024-12-03T00:24:50.808Z"
   },
   {
    "duration": 6,
    "start_time": "2024-12-03T00:24:50.827Z"
   },
   {
    "duration": 221,
    "start_time": "2024-12-03T00:24:50.835Z"
   },
   {
    "duration": 195,
    "start_time": "2024-12-03T00:26:10.809Z"
   },
   {
    "duration": 173,
    "start_time": "2024-12-03T00:32:17.800Z"
   },
   {
    "duration": 168,
    "start_time": "2024-12-03T00:33:04.290Z"
   },
   {
    "duration": 729,
    "start_time": "2024-12-03T00:58:15.328Z"
   },
   {
    "duration": 15,
    "start_time": "2024-12-03T00:58:16.060Z"
   },
   {
    "duration": 9,
    "start_time": "2024-12-03T00:58:16.077Z"
   },
   {
    "duration": 8,
    "start_time": "2024-12-03T00:58:16.088Z"
   },
   {
    "duration": 3,
    "start_time": "2024-12-03T00:58:16.098Z"
   },
   {
    "duration": 27,
    "start_time": "2024-12-03T00:58:16.103Z"
   },
   {
    "duration": 6,
    "start_time": "2024-12-03T00:58:16.132Z"
   },
   {
    "duration": 3,
    "start_time": "2024-12-03T00:58:16.140Z"
   },
   {
    "duration": 8,
    "start_time": "2024-12-03T00:58:16.145Z"
   },
   {
    "duration": 6,
    "start_time": "2024-12-03T00:58:16.155Z"
   },
   {
    "duration": 5,
    "start_time": "2024-12-03T00:58:16.162Z"
   },
   {
    "duration": 4,
    "start_time": "2024-12-03T00:58:16.169Z"
   },
   {
    "duration": 163,
    "start_time": "2024-12-03T00:58:16.175Z"
   },
   {
    "duration": 0,
    "start_time": "2024-12-03T00:58:16.340Z"
   },
   {
    "duration": 0,
    "start_time": "2024-12-03T00:58:16.342Z"
   },
   {
    "duration": 0,
    "start_time": "2024-12-03T00:58:16.343Z"
   },
   {
    "duration": 0,
    "start_time": "2024-12-03T00:58:16.344Z"
   },
   {
    "duration": 0,
    "start_time": "2024-12-03T00:58:16.345Z"
   },
   {
    "duration": 0,
    "start_time": "2024-12-03T00:58:16.346Z"
   },
   {
    "duration": 0,
    "start_time": "2024-12-03T00:58:16.348Z"
   },
   {
    "duration": 0,
    "start_time": "2024-12-03T00:58:16.349Z"
   },
   {
    "duration": 0,
    "start_time": "2024-12-03T00:58:16.350Z"
   },
   {
    "duration": 0,
    "start_time": "2024-12-03T00:58:16.350Z"
   },
   {
    "duration": 4,
    "start_time": "2024-12-03T00:58:47.792Z"
   },
   {
    "duration": 4,
    "start_time": "2024-12-03T00:58:48.914Z"
   },
   {
    "duration": 8,
    "start_time": "2024-12-03T00:58:55.300Z"
   },
   {
    "duration": 7,
    "start_time": "2024-12-03T00:58:55.942Z"
   },
   {
    "duration": 12,
    "start_time": "2024-12-03T00:58:56.822Z"
   },
   {
    "duration": 173,
    "start_time": "2024-12-03T00:58:57.366Z"
   },
   {
    "duration": 8,
    "start_time": "2024-12-03T00:58:59.186Z"
   },
   {
    "duration": 7,
    "start_time": "2024-12-03T00:58:59.741Z"
   },
   {
    "duration": 4,
    "start_time": "2024-12-03T00:59:00.558Z"
   },
   {
    "duration": 185,
    "start_time": "2024-12-03T00:59:01.643Z"
   },
   {
    "duration": 8,
    "start_time": "2024-12-03T01:02:55.527Z"
   },
   {
    "duration": 8,
    "start_time": "2024-12-03T01:03:17.931Z"
   },
   {
    "duration": 2,
    "start_time": "2024-12-03T01:05:40.128Z"
   },
   {
    "duration": 700,
    "start_time": "2024-12-03T01:07:48.940Z"
   },
   {
    "duration": 18,
    "start_time": "2024-12-03T01:08:17.110Z"
   },
   {
    "duration": 3,
    "start_time": "2024-12-03T01:08:37.182Z"
   },
   {
    "duration": 4,
    "start_time": "2024-12-03T01:13:16.107Z"
   },
   {
    "duration": 730,
    "start_time": "2024-12-03T01:16:03.734Z"
   },
   {
    "duration": 15,
    "start_time": "2024-12-03T01:16:04.467Z"
   },
   {
    "duration": 8,
    "start_time": "2024-12-03T01:16:04.483Z"
   },
   {
    "duration": 7,
    "start_time": "2024-12-03T01:16:04.494Z"
   },
   {
    "duration": 3,
    "start_time": "2024-12-03T01:16:04.502Z"
   },
   {
    "duration": 23,
    "start_time": "2024-12-03T01:16:04.507Z"
   },
   {
    "duration": 6,
    "start_time": "2024-12-03T01:16:04.532Z"
   },
   {
    "duration": 4,
    "start_time": "2024-12-03T01:16:04.539Z"
   },
   {
    "duration": 7,
    "start_time": "2024-12-03T01:16:04.545Z"
   },
   {
    "duration": 6,
    "start_time": "2024-12-03T01:16:04.555Z"
   },
   {
    "duration": 4,
    "start_time": "2024-12-03T01:16:04.562Z"
   },
   {
    "duration": 4,
    "start_time": "2024-12-03T01:16:04.568Z"
   },
   {
    "duration": 4,
    "start_time": "2024-12-03T01:16:04.574Z"
   },
   {
    "duration": 45,
    "start_time": "2024-12-03T01:16:04.579Z"
   },
   {
    "duration": 3,
    "start_time": "2024-12-03T01:16:04.626Z"
   },
   {
    "duration": 8,
    "start_time": "2024-12-03T01:16:04.631Z"
   },
   {
    "duration": 6,
    "start_time": "2024-12-03T01:16:04.641Z"
   },
   {
    "duration": 5,
    "start_time": "2024-12-03T01:16:04.649Z"
   },
   {
    "duration": 200,
    "start_time": "2024-12-03T01:16:04.655Z"
   },
   {
    "duration": 11,
    "start_time": "2024-12-03T01:16:04.858Z"
   },
   {
    "duration": 6,
    "start_time": "2024-12-03T01:16:04.870Z"
   },
   {
    "duration": 5,
    "start_time": "2024-12-03T01:16:04.877Z"
   },
   {
    "duration": 213,
    "start_time": "2024-12-03T01:16:04.883Z"
   },
   {
    "duration": 10,
    "start_time": "2024-12-03T01:16:05.100Z"
   },
   {
    "duration": 7,
    "start_time": "2024-12-03T01:16:05.111Z"
   },
   {
    "duration": 275,
    "start_time": "2024-12-03T01:16:05.120Z"
   },
   {
    "duration": 155,
    "start_time": "2024-12-03T15:40:27.740Z"
   },
   {
    "duration": 2391,
    "start_time": "2024-12-03T15:40:42.858Z"
   },
   {
    "duration": 20,
    "start_time": "2024-12-03T15:40:45.252Z"
   },
   {
    "duration": 9,
    "start_time": "2024-12-03T15:40:45.274Z"
   },
   {
    "duration": 6,
    "start_time": "2024-12-03T15:40:45.285Z"
   },
   {
    "duration": 3,
    "start_time": "2024-12-03T15:40:45.293Z"
   },
   {
    "duration": 8,
    "start_time": "2024-12-03T15:40:45.298Z"
   },
   {
    "duration": 6,
    "start_time": "2024-12-03T15:40:45.307Z"
   },
   {
    "duration": 4,
    "start_time": "2024-12-03T15:40:45.314Z"
   },
   {
    "duration": 8,
    "start_time": "2024-12-03T15:40:45.319Z"
   },
   {
    "duration": 42,
    "start_time": "2024-12-03T15:40:45.330Z"
   },
   {
    "duration": 4,
    "start_time": "2024-12-03T15:40:45.374Z"
   },
   {
    "duration": 4,
    "start_time": "2024-12-03T15:40:45.380Z"
   },
   {
    "duration": 4,
    "start_time": "2024-12-03T15:40:45.386Z"
   },
   {
    "duration": 4,
    "start_time": "2024-12-03T15:40:45.391Z"
   },
   {
    "duration": 3,
    "start_time": "2024-12-03T15:40:45.397Z"
   },
   {
    "duration": 8,
    "start_time": "2024-12-03T15:40:45.401Z"
   },
   {
    "duration": 6,
    "start_time": "2024-12-03T15:40:45.410Z"
   },
   {
    "duration": 54,
    "start_time": "2024-12-03T15:40:45.418Z"
   },
   {
    "duration": 169,
    "start_time": "2024-12-03T15:40:45.474Z"
   },
   {
    "duration": 9,
    "start_time": "2024-12-03T15:40:45.644Z"
   },
   {
    "duration": 19,
    "start_time": "2024-12-03T15:40:45.654Z"
   },
   {
    "duration": 4,
    "start_time": "2024-12-03T15:40:45.674Z"
   },
   {
    "duration": 210,
    "start_time": "2024-12-03T15:40:45.680Z"
   },
   {
    "duration": 8,
    "start_time": "2024-12-03T15:40:45.892Z"
   },
   {
    "duration": 6,
    "start_time": "2024-12-03T15:40:45.902Z"
   },
   {
    "duration": 5,
    "start_time": "2024-12-03T15:40:45.910Z"
   },
   {
    "duration": 216,
    "start_time": "2024-12-03T15:40:45.916Z"
   },
   {
    "duration": 6,
    "start_time": "2024-12-03T15:41:01.433Z"
   },
   {
    "duration": 8,
    "start_time": "2024-12-03T15:41:57.505Z"
   },
   {
    "duration": 6,
    "start_time": "2024-12-03T15:42:10.826Z"
   },
   {
    "duration": 6,
    "start_time": "2024-12-03T15:43:36.288Z"
   },
   {
    "duration": 5,
    "start_time": "2024-12-03T15:43:40.584Z"
   },
   {
    "duration": 743,
    "start_time": "2024-12-03T15:51:04.963Z"
   },
   {
    "duration": 14,
    "start_time": "2024-12-03T15:51:05.709Z"
   },
   {
    "duration": 8,
    "start_time": "2024-12-03T15:51:05.725Z"
   },
   {
    "duration": 7,
    "start_time": "2024-12-03T15:51:05.737Z"
   },
   {
    "duration": 4,
    "start_time": "2024-12-03T15:51:05.746Z"
   },
   {
    "duration": 8,
    "start_time": "2024-12-03T15:51:05.770Z"
   },
   {
    "duration": 7,
    "start_time": "2024-12-03T15:51:05.779Z"
   },
   {
    "duration": 3,
    "start_time": "2024-12-03T15:51:05.787Z"
   },
   {
    "duration": 9,
    "start_time": "2024-12-03T15:51:05.793Z"
   },
   {
    "duration": 7,
    "start_time": "2024-12-03T15:51:05.804Z"
   },
   {
    "duration": 5,
    "start_time": "2024-12-03T15:51:05.812Z"
   },
   {
    "duration": 4,
    "start_time": "2024-12-03T15:51:05.818Z"
   },
   {
    "duration": 47,
    "start_time": "2024-12-03T15:51:05.824Z"
   },
   {
    "duration": 5,
    "start_time": "2024-12-03T15:51:05.873Z"
   },
   {
    "duration": 7,
    "start_time": "2024-12-03T15:51:05.880Z"
   },
   {
    "duration": 6,
    "start_time": "2024-12-03T15:51:05.889Z"
   },
   {
    "duration": 6,
    "start_time": "2024-12-03T15:51:05.897Z"
   },
   {
    "duration": 207,
    "start_time": "2024-12-03T15:51:05.904Z"
   },
   {
    "duration": 8,
    "start_time": "2024-12-03T15:51:06.113Z"
   },
   {
    "duration": 5,
    "start_time": "2024-12-03T15:51:06.123Z"
   },
   {
    "duration": 5,
    "start_time": "2024-12-03T15:51:06.130Z"
   },
   {
    "duration": 230,
    "start_time": "2024-12-03T15:51:06.136Z"
   },
   {
    "duration": 8,
    "start_time": "2024-12-03T15:51:06.369Z"
   },
   {
    "duration": 5,
    "start_time": "2024-12-03T15:51:06.381Z"
   },
   {
    "duration": 517,
    "start_time": "2024-12-03T15:51:06.388Z"
   },
   {
    "duration": 0,
    "start_time": "2024-12-03T15:51:06.906Z"
   },
   {
    "duration": 0,
    "start_time": "2024-12-03T15:51:06.908Z"
   },
   {
    "duration": 0,
    "start_time": "2024-12-03T15:51:06.909Z"
   },
   {
    "duration": 0,
    "start_time": "2024-12-03T15:51:06.911Z"
   },
   {
    "duration": 12,
    "start_time": "2024-12-03T15:51:21.571Z"
   },
   {
    "duration": 5,
    "start_time": "2024-12-03T15:51:38.998Z"
   },
   {
    "duration": 6,
    "start_time": "2024-12-03T15:51:40.562Z"
   },
   {
    "duration": 4,
    "start_time": "2024-12-03T15:54:04.465Z"
   },
   {
    "duration": 8,
    "start_time": "2024-12-03T15:54:35.059Z"
   },
   {
    "duration": 10,
    "start_time": "2024-12-03T15:55:28.117Z"
   },
   {
    "duration": 4,
    "start_time": "2024-12-03T15:55:40.492Z"
   },
   {
    "duration": 9,
    "start_time": "2024-12-03T15:56:05.052Z"
   },
   {
    "duration": 13,
    "start_time": "2024-12-03T15:57:49.970Z"
   },
   {
    "duration": 12,
    "start_time": "2024-12-03T15:57:55.522Z"
   },
   {
    "duration": 12,
    "start_time": "2024-12-03T15:58:31.499Z"
   },
   {
    "duration": 770,
    "start_time": "2024-12-03T15:59:12.226Z"
   },
   {
    "duration": 11,
    "start_time": "2024-12-03T15:59:12.999Z"
   },
   {
    "duration": 10,
    "start_time": "2024-12-03T15:59:13.012Z"
   },
   {
    "duration": 7,
    "start_time": "2024-12-03T15:59:13.023Z"
   },
   {
    "duration": 3,
    "start_time": "2024-12-03T15:59:13.033Z"
   },
   {
    "duration": 7,
    "start_time": "2024-12-03T15:59:13.038Z"
   },
   {
    "duration": 6,
    "start_time": "2024-12-03T15:59:13.069Z"
   },
   {
    "duration": 4,
    "start_time": "2024-12-03T15:59:13.076Z"
   },
   {
    "duration": 7,
    "start_time": "2024-12-03T15:59:13.081Z"
   },
   {
    "duration": 6,
    "start_time": "2024-12-03T15:59:13.090Z"
   },
   {
    "duration": 3,
    "start_time": "2024-12-03T15:59:13.098Z"
   },
   {
    "duration": 3,
    "start_time": "2024-12-03T15:59:13.103Z"
   },
   {
    "duration": 4,
    "start_time": "2024-12-03T15:59:13.108Z"
   },
   {
    "duration": 3,
    "start_time": "2024-12-03T15:59:13.115Z"
   },
   {
    "duration": 52,
    "start_time": "2024-12-03T15:59:13.120Z"
   },
   {
    "duration": 9,
    "start_time": "2024-12-03T15:59:13.173Z"
   },
   {
    "duration": 8,
    "start_time": "2024-12-03T15:59:13.184Z"
   },
   {
    "duration": 8,
    "start_time": "2024-12-03T15:59:13.194Z"
   },
   {
    "duration": 7,
    "start_time": "2024-12-03T15:59:13.203Z"
   },
   {
    "duration": 5,
    "start_time": "2024-12-03T15:59:13.212Z"
   },
   {
    "duration": 199,
    "start_time": "2024-12-03T15:59:13.219Z"
   },
   {
    "duration": 8,
    "start_time": "2024-12-03T15:59:13.420Z"
   },
   {
    "duration": 7,
    "start_time": "2024-12-03T15:59:13.430Z"
   },
   {
    "duration": 5,
    "start_time": "2024-12-03T15:59:13.438Z"
   },
   {
    "duration": 218,
    "start_time": "2024-12-03T15:59:13.444Z"
   },
   {
    "duration": 9,
    "start_time": "2024-12-03T15:59:13.664Z"
   },
   {
    "duration": 7,
    "start_time": "2024-12-03T15:59:13.675Z"
   },
   {
    "duration": 136,
    "start_time": "2024-12-03T15:59:13.684Z"
   },
   {
    "duration": 0,
    "start_time": "2024-12-03T15:59:13.822Z"
   },
   {
    "duration": 0,
    "start_time": "2024-12-03T15:59:13.823Z"
   },
   {
    "duration": 0,
    "start_time": "2024-12-03T15:59:13.824Z"
   },
   {
    "duration": 0,
    "start_time": "2024-12-03T15:59:13.825Z"
   },
   {
    "duration": 0,
    "start_time": "2024-12-03T15:59:13.826Z"
   },
   {
    "duration": 13,
    "start_time": "2024-12-03T15:59:56.503Z"
   },
   {
    "duration": 150,
    "start_time": "2024-12-03T16:00:05.825Z"
   },
   {
    "duration": 9,
    "start_time": "2024-12-03T16:00:13.959Z"
   },
   {
    "duration": 12,
    "start_time": "2024-12-03T16:01:36.147Z"
   },
   {
    "duration": 8,
    "start_time": "2024-12-03T16:02:20.803Z"
   },
   {
    "duration": 12,
    "start_time": "2024-12-03T16:12:02.186Z"
   },
   {
    "duration": 3,
    "start_time": "2024-12-03T16:12:21.727Z"
   },
   {
    "duration": 10,
    "start_time": "2024-12-03T16:12:24.943Z"
   },
   {
    "duration": 5,
    "start_time": "2024-12-03T16:15:05.900Z"
   },
   {
    "duration": 6,
    "start_time": "2024-12-03T16:15:06.997Z"
   },
   {
    "duration": 10,
    "start_time": "2024-12-03T16:27:36.944Z"
   },
   {
    "duration": 5,
    "start_time": "2024-12-03T16:37:23.209Z"
   },
   {
    "duration": 7,
    "start_time": "2024-12-03T16:37:50.855Z"
   },
   {
    "duration": 4,
    "start_time": "2024-12-03T16:39:04.475Z"
   },
   {
    "duration": 18,
    "start_time": "2024-12-03T16:40:40.112Z"
   },
   {
    "duration": 9,
    "start_time": "2024-12-03T16:40:49.363Z"
   },
   {
    "duration": 762,
    "start_time": "2024-12-03T16:41:05.257Z"
   },
   {
    "duration": 13,
    "start_time": "2024-12-03T16:41:06.022Z"
   },
   {
    "duration": 9,
    "start_time": "2024-12-03T16:41:06.037Z"
   },
   {
    "duration": 21,
    "start_time": "2024-12-03T16:41:06.049Z"
   },
   {
    "duration": 4,
    "start_time": "2024-12-03T16:41:06.072Z"
   },
   {
    "duration": 8,
    "start_time": "2024-12-03T16:41:06.078Z"
   },
   {
    "duration": 5,
    "start_time": "2024-12-03T16:41:06.089Z"
   },
   {
    "duration": 4,
    "start_time": "2024-12-03T16:41:06.096Z"
   },
   {
    "duration": 10,
    "start_time": "2024-12-03T16:41:06.101Z"
   },
   {
    "duration": 7,
    "start_time": "2024-12-03T16:41:06.114Z"
   },
   {
    "duration": 4,
    "start_time": "2024-12-03T16:41:06.123Z"
   },
   {
    "duration": 44,
    "start_time": "2024-12-03T16:41:06.129Z"
   },
   {
    "duration": 3,
    "start_time": "2024-12-03T16:41:06.175Z"
   },
   {
    "duration": 4,
    "start_time": "2024-12-03T16:41:06.180Z"
   },
   {
    "duration": 5,
    "start_time": "2024-12-03T16:41:06.185Z"
   },
   {
    "duration": 10,
    "start_time": "2024-12-03T16:41:06.192Z"
   },
   {
    "duration": 11,
    "start_time": "2024-12-03T16:41:06.204Z"
   },
   {
    "duration": 9,
    "start_time": "2024-12-03T16:41:06.217Z"
   },
   {
    "duration": 43,
    "start_time": "2024-12-03T16:41:06.228Z"
   },
   {
    "duration": 7,
    "start_time": "2024-12-03T16:41:06.274Z"
   },
   {
    "duration": 198,
    "start_time": "2024-12-03T16:41:06.282Z"
   },
   {
    "duration": 10,
    "start_time": "2024-12-03T16:41:06.482Z"
   },
   {
    "duration": 8,
    "start_time": "2024-12-03T16:41:06.494Z"
   },
   {
    "duration": 5,
    "start_time": "2024-12-03T16:41:06.504Z"
   },
   {
    "duration": 231,
    "start_time": "2024-12-03T16:41:06.511Z"
   },
   {
    "duration": 9,
    "start_time": "2024-12-03T16:41:06.745Z"
   },
   {
    "duration": 6,
    "start_time": "2024-12-03T16:41:06.756Z"
   },
   {
    "duration": 3,
    "start_time": "2024-12-03T16:41:06.770Z"
   },
   {
    "duration": 11,
    "start_time": "2024-12-03T16:41:06.776Z"
   },
   {
    "duration": 7,
    "start_time": "2024-12-03T16:41:06.788Z"
   },
   {
    "duration": 7,
    "start_time": "2024-12-03T16:41:06.798Z"
   },
   {
    "duration": 6,
    "start_time": "2024-12-03T16:43:21.953Z"
   },
   {
    "duration": 739,
    "start_time": "2024-12-03T17:01:44.820Z"
   },
   {
    "duration": 18,
    "start_time": "2024-12-03T17:01:45.562Z"
   },
   {
    "duration": 9,
    "start_time": "2024-12-03T17:01:45.581Z"
   },
   {
    "duration": 7,
    "start_time": "2024-12-03T17:01:45.592Z"
   },
   {
    "duration": 3,
    "start_time": "2024-12-03T17:01:45.601Z"
   },
   {
    "duration": 7,
    "start_time": "2024-12-03T17:01:45.606Z"
   },
   {
    "duration": 7,
    "start_time": "2024-12-03T17:01:45.614Z"
   },
   {
    "duration": 4,
    "start_time": "2024-12-03T17:01:45.623Z"
   },
   {
    "duration": 7,
    "start_time": "2024-12-03T17:01:45.628Z"
   },
   {
    "duration": 6,
    "start_time": "2024-12-03T17:01:45.672Z"
   },
   {
    "duration": 4,
    "start_time": "2024-12-03T17:01:45.679Z"
   },
   {
    "duration": 3,
    "start_time": "2024-12-03T17:01:45.685Z"
   },
   {
    "duration": 3,
    "start_time": "2024-12-03T17:01:45.691Z"
   },
   {
    "duration": 4,
    "start_time": "2024-12-03T17:01:45.696Z"
   },
   {
    "duration": 4,
    "start_time": "2024-12-03T17:01:45.701Z"
   },
   {
    "duration": 2,
    "start_time": "2024-12-03T17:01:45.708Z"
   },
   {
    "duration": 9,
    "start_time": "2024-12-03T17:01:45.712Z"
   },
   {
    "duration": 47,
    "start_time": "2024-12-03T17:01:45.724Z"
   },
   {
    "duration": 7,
    "start_time": "2024-12-03T17:01:45.773Z"
   },
   {
    "duration": 6,
    "start_time": "2024-12-03T17:01:45.782Z"
   },
   {
    "duration": 5,
    "start_time": "2024-12-03T17:01:45.790Z"
   },
   {
    "duration": 193,
    "start_time": "2024-12-03T17:01:45.796Z"
   },
   {
    "duration": 8,
    "start_time": "2024-12-03T17:01:45.991Z"
   },
   {
    "duration": 6,
    "start_time": "2024-12-03T17:01:46.001Z"
   },
   {
    "duration": 4,
    "start_time": "2024-12-03T17:01:46.009Z"
   },
   {
    "duration": 215,
    "start_time": "2024-12-03T17:01:46.015Z"
   },
   {
    "duration": 9,
    "start_time": "2024-12-03T17:01:46.232Z"
   },
   {
    "duration": 6,
    "start_time": "2024-12-03T17:01:46.245Z"
   },
   {
    "duration": 3,
    "start_time": "2024-12-03T17:01:46.254Z"
   },
   {
    "duration": 17,
    "start_time": "2024-12-03T17:01:46.258Z"
   },
   {
    "duration": 6,
    "start_time": "2024-12-03T17:01:46.278Z"
   },
   {
    "duration": 2436,
    "start_time": "2024-12-04T09:25:16.090Z"
   },
   {
    "duration": 22,
    "start_time": "2024-12-04T09:25:18.530Z"
   },
   {
    "duration": 9,
    "start_time": "2024-12-04T09:25:18.554Z"
   },
   {
    "duration": 8,
    "start_time": "2024-12-04T09:25:18.565Z"
   },
   {
    "duration": 4,
    "start_time": "2024-12-04T09:25:20.965Z"
   },
   {
    "duration": 9,
    "start_time": "2024-12-04T09:25:25.262Z"
   },
   {
    "duration": 7,
    "start_time": "2024-12-04T09:25:25.519Z"
   },
   {
    "duration": 3,
    "start_time": "2024-12-04T09:25:27.629Z"
   },
   {
    "duration": 9,
    "start_time": "2024-12-04T09:25:31.408Z"
   },
   {
    "duration": 7,
    "start_time": "2024-12-04T09:25:35.228Z"
   },
   {
    "duration": 5,
    "start_time": "2024-12-04T09:26:02.940Z"
   },
   {
    "duration": 4,
    "start_time": "2024-12-04T09:26:09.563Z"
   },
   {
    "duration": 4,
    "start_time": "2024-12-04T09:26:09.862Z"
   },
   {
    "duration": 5,
    "start_time": "2024-12-04T09:26:11.033Z"
   },
   {
    "duration": 5,
    "start_time": "2024-12-04T09:26:15.539Z"
   },
   {
    "duration": 4,
    "start_time": "2024-12-04T09:26:16.468Z"
   },
   {
    "duration": 8,
    "start_time": "2024-12-04T09:26:28.383Z"
   },
   {
    "duration": 10,
    "start_time": "2024-12-04T09:26:30.421Z"
   },
   {
    "duration": 10,
    "start_time": "2024-12-04T09:26:34.658Z"
   },
   {
    "duration": 7,
    "start_time": "2024-12-04T09:26:36.235Z"
   },
   {
    "duration": 46,
    "start_time": "2024-12-04T09:26:38.110Z"
   },
   {
    "duration": 170,
    "start_time": "2024-12-04T09:26:38.648Z"
   },
   {
    "duration": 8,
    "start_time": "2024-12-04T09:26:51.866Z"
   },
   {
    "duration": 7,
    "start_time": "2024-12-04T09:26:52.205Z"
   },
   {
    "duration": 4,
    "start_time": "2024-12-04T09:26:55.380Z"
   },
   {
    "duration": 175,
    "start_time": "2024-12-04T09:26:55.613Z"
   },
   {
    "duration": 9,
    "start_time": "2024-12-04T09:27:44.926Z"
   },
   {
    "duration": 7,
    "start_time": "2024-12-04T09:27:45.304Z"
   },
   {
    "duration": 4,
    "start_time": "2024-12-04T09:27:47.027Z"
   },
   {
    "duration": 10,
    "start_time": "2024-12-04T09:27:48.441Z"
   },
   {
    "duration": 6,
    "start_time": "2024-12-04T09:28:01.974Z"
   }
  ],
  "kernelspec": {
   "display_name": "Python 3 (ipykernel)",
   "language": "python",
   "name": "python3"
  },
  "language_info": {
   "codemirror_mode": {
    "name": "ipython",
    "version": 3
   },
   "file_extension": ".py",
   "mimetype": "text/x-python",
   "name": "python",
   "nbconvert_exporter": "python",
   "pygments_lexer": "ipython3",
   "version": "3.9.19"
  },
  "toc": {
   "base_numbering": 1,
   "nav_menu": {},
   "number_sections": true,
   "sideBar": true,
   "skip_h1_title": true,
   "title_cell": "Table of Contents",
   "title_sidebar": "Contents",
   "toc_cell": false,
   "toc_position": {},
   "toc_section_display": true,
   "toc_window_display": false
  }
 },
 "nbformat": 4,
 "nbformat_minor": 2
}
